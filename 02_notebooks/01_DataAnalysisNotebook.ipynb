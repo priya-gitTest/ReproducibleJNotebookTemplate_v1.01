{
 "cells": [
  {
   "cell_type": "code",
   "execution_count": null,
   "metadata": {},
   "outputs": [],
   "source": [
    "! uv add groq\n",
    "#!pip install Groq"
   ]
  },
  {
   "cell_type": "code",
   "execution_count": null,
   "metadata": {},
   "outputs": [],
   "source": [
    "import groq\n",
    "from groq import Groq\n",
    "import os\n",
    "from getpass import getpass"
   ]
  },
  {
   "cell_type": "code",
   "execution_count": null,
   "metadata": {},
   "outputs": [],
   "source": [
    "print(groq.__version__)"
   ]
  },
  {
   "cell_type": "code",
   "execution_count": null,
   "metadata": {},
   "outputs": [],
   "source": [
    "from pprint import pprint as pp\n",
    "# Set a custom width for pretty-printing\n",
    "def pprint(data, width=80):\n",
    "    \"\"\"Pretty print data with a specified width.\"\"\"\n",
    "    pp(data, width=width)# List of model identifiers to query\n"
   ]
  },
  {
   "cell_type": "markdown",
   "metadata": {},
   "source": [
    "### Setting Up API Keys"
   ]
  },
  {
   "cell_type": "code",
   "execution_count": null,
   "metadata": {},
   "outputs": [],
   "source": [
    "# Enter API key\n",
    "api_key = getpass('Enter your Groq API key: ')"
   ]
  },
  {
   "cell_type": "code",
   "execution_count": null,
   "metadata": {},
   "outputs": [],
   "source": [
    "# Configure the default for all requests:\n",
    "client = Groq(\n",
    "    max_retries=2,# default is 2\n",
    "    api_key=api_key,\n",
    "     # 20 seconds (default is 1 minute)\n",
    "    timeout=50.0,\n",
    ")"
   ]
  },
  {
   "cell_type": "code",
   "execution_count": null,
   "metadata": {},
   "outputs": [],
   "source": [
    "chat_completion = client.chat.completions.create(\n",
    "    messages=[\n",
    "        {\n",
    "            \"role\": \"user\",\n",
    "            \"content\": \"generate a sample codemeta.json file\",\n",
    "        }\n",
    "    ],\n",
    "    model=\"llama3-8b-8192\",\n",
    ")\n",
    "print(chat_completion.choices[0].message.content)"
   ]
  },
  {
   "cell_type": "code",
   "execution_count": null,
   "metadata": {},
   "outputs": [],
   "source": [
    "#Check the above generate Schema is valid on this website and edit it there only before pasting it in codemeta.json.\n",
    "#https://jsonlint.com/"
   ]
  },
  {
   "cell_type": "markdown",
   "metadata": {},
   "source": [
    "### Exploratory Data Analysis "
   ]
  },
  {
   "cell_type": "code",
   "execution_count": null,
   "metadata": {},
   "outputs": [],
   "source": [
    "import pandas as pd\n",
    "import numpy as np\n",
    "import matplotlib.pyplot as plt\n",
    "import seaborn as sns"
   ]
  },
  {
   "cell_type": "markdown",
   "metadata": {},
   "source": [
    "## Read the 04_medals.csv file and do some analysis on the medals data."
   ]
  },
  {
   "cell_type": "code",
   "execution_count": null,
   "metadata": {},
   "outputs": [],
   "source": [
    "# Load the medals dataset\n",
    "# Replace 'medals.csv' with the actual path to your file\n",
    "df = pd.read_csv('../01_data/04_medals.csv')\n",
    "print(f\"Shape: {df.shape}\")\n",
    "df.head(3)"
   ]
  },
  {
   "cell_type": "markdown",
   "metadata": {},
   "source": [
    "### Display basic information about the dataset"
   ]
  },
  {
   "cell_type": "code",
   "execution_count": null,
   "metadata": {},
   "outputs": [],
   "source": [
    "\n",
    "print(\"\\n1. DATASET OVERVIEW\")\n",
    "print(\"-\" * 30)\n",
    "print(f\"Total records: {len(df)}\")\n",
    "print(f\"Unique disciplines: {df['discipline'].nunique()}\")\n",
    "print(f\"Unique gender: {df['gender'].nunique()}\")\n",
    "print(f\"Unique gender: {df['gender'].value_counts()}\")\n",
    "print(f\"Countries with medals: {df['country'].nunique()}\")\n",
    "print(f\"Medal distribution:\")\n",
    "print(df['medal_type'].value_counts())"
   ]
  },
  {
   "cell_type": "markdown",
   "metadata": {},
   "source": [
    "### Display the country with the most medals and its medal count"
   ]
  },
  {
   "cell_type": "code",
   "execution_count": null,
   "metadata": {},
   "outputs": [],
   "source": [
    "# Count medals per country\n",
    "#medal_counts = df['country'].value_counts()\n",
    "# Group by country and count medals\n",
    "medal_counts = df.groupby('country').size()\n",
    "print(medal_counts.tail(4))\n",
    "# Find the country with the most medals\n",
    "top_country = medal_counts.idxmax()\n",
    "top_count = medal_counts.max()\n",
    "\n",
    "print(f\"The country with the most medals is {top_country} with {top_count} medals.\")"
   ]
  },
  {
   "cell_type": "markdown",
   "metadata": {},
   "source": [
    "### Display Top 5 Medal-Winning Countries"
   ]
  },
  {
   "cell_type": "code",
   "execution_count": null,
   "metadata": {},
   "outputs": [],
   "source": [
    "# Get top 5 countries\n",
    "top_5 = medal_counts.sort_values(ascending=False).head(5)\n",
    "\n",
    "# Plotting\n",
    "plt.figure(figsize=(10, 6))\n",
    "top_5.plot(kind='bar', color='gold', edgecolor='black')\n",
    "\n",
    "plt.title('Top 5 Medal-Winning Countries', fontsize=16)\n",
    "plt.xlabel('Country', fontsize=12)\n",
    "plt.ylabel('Number of Medals', fontsize=12)\n",
    "plt.xticks(rotation=45)\n",
    "plt.grid(axis='y', linestyle='--', alpha=0.7)\n",
    "\n",
    "plt.tight_layout()\n",
    "plt.show()"
   ]
  },
  {
   "cell_type": "markdown",
   "metadata": {},
   "source": [
    "### Visualization of Top 5 Countries with max medals by medal type."
   ]
  },
  {
   "cell_type": "code",
   "execution_count": null,
   "metadata": {},
   "outputs": [],
   "source": [
    "#Visualization of Top 5 Countries with max medals by medal type.\n",
    "\n",
    "# Create a pivot table: rows = countries, columns = medal types\n",
    "medal_pivot = df.pivot_table(index='country', columns='medal_type', aggfunc='size', fill_value=0)\n",
    "\n",
    "# Get top 5 countries by total medal count\n",
    "top_5 = medal_pivot.sum(axis=1).sort_values(ascending=False).head(5)\n",
    "top_5_medals = medal_pivot.loc[top_5.index]\n",
    "\n",
    "# Plotting grouped bar chart\n",
    "medal_types = ['Gold Medal', 'Silver Medal', 'Bronze Medal']\n",
    "colors = ['#FFD700', '#C0C0C0', '#CD7F32']\n",
    "bar_width = 0.25\n",
    "x = range(len(top_5_medals))\n",
    "\n",
    "plt.figure(figsize=(10, 6))\n",
    "\n",
    "# Plot each medal type as a separate set of bars\n",
    "for i, medal in enumerate(medal_types):\n",
    "    plt.bar(\n",
    "        [p + i * bar_width for p in x],\n",
    "        top_5_medals[medal] if medal in top_5_medals.columns else [0] * len(top_5_medals),\n",
    "        width=bar_width,\n",
    "        label=medal.replace(' Medal', ''),\n",
    "        color=colors[i]\n",
    "    )\n",
    "\n",
    "# Formatting\n",
    "plt.xlabel('Country', fontsize=12)\n",
    "plt.ylabel('Number of Medals', fontsize=12)\n",
    "plt.title('Top 5 Medal-Winning Countries by Medal Type', fontsize=16)\n",
    "plt.xticks([p + bar_width for p in x], top_5_medals.index, rotation=45)\n",
    "plt.legend(title='Medal Type')\n",
    "plt.grid(axis='y', linestyle='--', alpha=0.7)\n",
    "\n",
    "plt.tight_layout()\n",
    "plt.show()"
   ]
  },
  {
   "cell_type": "markdown",
   "metadata": {},
   "source": [
    "### Top 3 Sports where women won the most medals"
   ]
  },
  {
   "cell_type": "code",
   "execution_count": null,
   "metadata": {},
   "outputs": [],
   "source": [
    "#| label: celllabel1\n",
    "# Filter only female athletes\n",
    "women_df = df[df['gender'] == 'W']\n",
    "\n",
    "# Group by discipline and count medals\n",
    "top_sports = women_df['discipline'].value_counts().head(3)\n",
    "\n",
    "# Plotting\n",
    "plt.figure(figsize=(8, 5))\n",
    "top_sports.plot(kind='bar', color='hotpink', edgecolor='black')\n",
    "\n",
    "plt.title('Top 3 Sports Where Women Won the Most Medals', fontsize=14)\n",
    "plt.xlabel('Sport (Discipline)', fontsize=12)\n",
    "plt.ylabel('Number of Medals', fontsize=12)\n",
    "plt.xticks(rotation=45)\n",
    "plt.grid(axis='y', linestyle='--', alpha=0.7)\n",
    "\n",
    "plt.tight_layout()\n",
    "plt.show()\n"
   ]
  },
  {
   "cell_type": "markdown",
   "metadata": {},
   "source": [
    "### Display the sport with the most gold medals won by women"
   ]
  },
  {
   "cell_type": "code",
   "execution_count": null,
   "metadata": {},
   "outputs": [],
   "source": [
    "# Filter for gold medals won by women\n",
    "gold_women_df = df[(df['gender'] == 'W') & (df['medal_type'] == 'Gold Medal')]\n",
    "\n",
    "# Count gold medals by discipline\n",
    "gold_by_sport = gold_women_df['discipline'].value_counts()\n",
    "\n",
    "# Get the sport with the most gold medals\n",
    "top_sport = gold_by_sport.idxmax()\n",
    "top_count = gold_by_sport.max()\n",
    "\n",
    "print(f\"The sport with the most gold medals won by women is '{top_sport}' with {top_count} gold medals.\")"
   ]
  },
  {
   "cell_type": "code",
   "execution_count": null,
   "metadata": {},
   "outputs": [],
   "source": [
    "# Instructions for Groq \n",
    "instructions = '''\n",
    "Analyze the following Olympic medals data showing women's gold medal counts by sport:\n",
    "\n",
    "{data_summary}\n",
    "\n",
    "Based on this data:\n",
    "1. Which sport has the most gold medals won by women?\n",
    "2. What is the exact count of gold medals for that sport?\n",
    "3. List the top 3 sports where women won the most gold medals with their counts.\n",
    "4. Provide any interesting insights about women's performance across these sports.\n",
    "5. Name top 5 medal winning countries.\n",
    "\n",
    "Please provide a clear, concise analysis focusing on the sport with the highest women's gold medal count per sport.\n",
    "\n",
    "'''"
   ]
  },
  {
   "cell_type": "code",
   "execution_count": null,
   "metadata": {},
   "outputs": [],
   "source": [
    "groq_response=''\n",
    "try:\n",
    "    chat_completion = client.chat.completions.create(\n",
    "        messages=[\n",
    "            {\n",
    "                \"role\": \"user\",\n",
    "                \"content\": instructions,\n",
    "            },\n",
    "        ],\n",
    "        model=\"llama3-8b-8192\",\n",
    "        temperature=0.1,  # Low temperature for factual analysis\n",
    "        max_tokens=500\n",
    "    )\n",
    "    print(\"=== GROQ API RESPONSE ===\")\n",
    "    groq_response = chat_completion.choices[0].message.content\n",
    "    print(groq_response)\n",
    "except groq.APIConnectionError as e:\n",
    "    print(\"The server could not be reached\")\n",
    "    print(e.__cause__)  # an underlying Exception, likely raised within httpx.\n",
    "except groq.RateLimitError as e:\n",
    "    print(\"A 429 status code was received; we should back off a bit.\")\n",
    "except groq.APIStatusError as e:\n",
    "    print(\"Another non-200-range status code was received\")\n",
    "    print(e.status_code)\n",
    "    print(e.response)"
   ]
  },
  {
   "cell_type": "code",
   "execution_count": null,
   "metadata": {},
   "outputs": [],
   "source": [
    "#| label: celllabel2\n",
    "print(groq_response)"
   ]
  },
  {
   "cell_type": "markdown",
   "metadata": {},
   "source": [
    "### Generate text for citation.cff file for Github"
   ]
  },
  {
   "cell_type": "code",
   "execution_count": null,
   "metadata": {},
   "outputs": [],
   "source": [
    "chat_completion = client.chat.completions.create(\n",
    "    messages=[\n",
    "        {\n",
    "            \"role\": \"user\",\n",
    "            \"content\": \"Generate a citation.cff file for this repository\",\n",
    "        }\n",
    "    ],\n",
    "    model=\"llama3-8b-8192\",\n",
    ")\n",
    "print(chat_completion.choices[0].message.content)"
   ]
  },
  {
   "cell_type": "code",
   "execution_count": null,
   "metadata": {},
   "outputs": [],
   "source": [
    "#Alternatively generate using this online tool : https://citation-file-format.github.io/cff-initializer-javascript/#/"
   ]
  }
 ],
 "metadata": {
  "kernelspec": {
   "display_name": "Python 3",
   "language": "python",
   "name": "python3"
  },
  "language_info": {
   "codemirror_mode": {
    "name": "ipython",
    "version": 3
   },
   "file_extension": ".py",
   "mimetype": "text/x-python",
   "name": "python",
   "nbconvert_exporter": "python",
   "pygments_lexer": "ipython3",
   "version": "3.12.1"
  }
 },
 "nbformat": 4,
 "nbformat_minor": 2
}
