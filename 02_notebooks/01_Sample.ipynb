{
 "cells": [
  {
   "cell_type": "code",
   "execution_count": 3,
   "metadata": {},
   "outputs": [
    {
     "name": "stdout",
     "output_type": "stream",
     "text": [
      "\u001b[2mResolved \u001b[1m122 packages\u001b[0m \u001b[2min 0.55ms\u001b[0m\u001b[0m\n",
      "\u001b[2mAudited \u001b[1m117 packages\u001b[0m \u001b[2min 0.02ms\u001b[0m\u001b[0m\n"
     ]
    }
   ],
   "source": [
    "! uv add groq\n",
    "#!pip install Groq"
   ]
  },
  {
   "cell_type": "code",
   "execution_count": 4,
   "metadata": {},
   "outputs": [
    {
     "ename": "ModuleNotFoundError",
     "evalue": "No module named 'groq'",
     "output_type": "error",
     "traceback": [
      "\u001b[31m---------------------------------------------------------------------------\u001b[39m",
      "\u001b[31mModuleNotFoundError\u001b[39m                       Traceback (most recent call last)",
      "\u001b[36mCell\u001b[39m\u001b[36m \u001b[39m\u001b[32mIn[4]\u001b[39m\u001b[32m, line 1\u001b[39m\n\u001b[32m----> \u001b[39m\u001b[32m1\u001b[39m \u001b[38;5;28;01mimport\u001b[39;00m\u001b[38;5;250m \u001b[39m\u001b[34;01mgroq\u001b[39;00m\n\u001b[32m      2\u001b[39m \u001b[38;5;28;01mfrom\u001b[39;00m\u001b[38;5;250m \u001b[39m\u001b[34;01mgroq\u001b[39;00m\u001b[38;5;250m \u001b[39m\u001b[38;5;28;01mimport\u001b[39;00m Groq\n\u001b[32m      3\u001b[39m \u001b[38;5;28;01mimport\u001b[39;00m\u001b[38;5;250m \u001b[39m\u001b[34;01mos\u001b[39;00m\n",
      "\u001b[31mModuleNotFoundError\u001b[39m: No module named 'groq'"
     ]
    }
   ],
   "source": [
    "import groq\n",
    "from groq import Groq\n",
    "import os\n",
    "from getpass import getpass"
   ]
  },
  {
   "cell_type": "code",
   "execution_count": null,
   "metadata": {},
   "outputs": [],
   "source": [
    "print(groq.__version__)"
   ]
  },
  {
   "cell_type": "code",
   "execution_count": 19,
   "metadata": {},
   "outputs": [],
   "source": [
    "from pprint import pprint as pp\n",
    "# Set a custom width for pretty-printing\n",
    "def pprint(data, width=80):\n",
    "    \"\"\"Pretty print data with a specified width.\"\"\"\n",
    "    pp(data, width=width)# List of model identifiers to query\n"
   ]
  },
  {
   "cell_type": "markdown",
   "metadata": {},
   "source": [
    "### Setting Up API Keys"
   ]
  },
  {
   "cell_type": "code",
   "execution_count": 20,
   "metadata": {},
   "outputs": [],
   "source": [
    "# Enter API key\n",
    "api_key = getpass('Enter your Groq API key: ')"
   ]
  },
  {
   "cell_type": "code",
   "execution_count": 24,
   "metadata": {},
   "outputs": [],
   "source": [
    "# Configure the default for all requests:\n",
    "client = Groq(\n",
    "    max_retries=2,# default is 2\n",
    "    api_key=api_key,\n",
    "     # 20 seconds (default is 1 minute)\n",
    "    timeout=50.0,\n",
    ")"
   ]
  },
  {
   "cell_type": "code",
   "execution_count": null,
   "metadata": {},
   "outputs": [],
   "source": [
    "chat_completion = client.chat.completions.create(\n",
    "    messages=[\n",
    "        {\n",
    "            \"role\": \"user\",\n",
    "            \"content\": \"generate a sample codemeta.json file\",\n",
    "        }\n",
    "    ],\n",
    "    model=\"llama3-8b-8192\",\n",
    ")\n",
    "print(chat_completion.choices[0].message.content)"
   ]
  },
  {
   "cell_type": "code",
   "execution_count": 25,
   "metadata": {},
   "outputs": [],
   "source": [
    "# Instructions for Groq \n",
    "instructions = '''\n",
    "Please provide a comprehensive list of all internationally recognized sovereign states. \n",
    "    Format the response as a clean, alphabetized list of country names. \n",
    "    Include:\n",
    "    - All 193 UN member states\n",
    "    - Internationally recognized sovereign states\n",
    "    - Alphabetized order\n",
    "    \n",
    "    Do not include:\n",
    "    - Dependent territories\n",
    "    - Disputed regions\n",
    "    - Non-sovereign states\n",
    "'''\n"
   ]
  },
  {
   "cell_type": "code",
   "execution_count": null,
   "metadata": {},
   "outputs": [],
   "source": [
    "country_list= ''\n",
    "try:\n",
    "    response = client.chat.completions.with_raw_response.create(\n",
    "        messages=[\n",
    "            {\n",
    "                \"role\": \"system\",\n",
    "                \"content\": \"You are a helpful assistant.\",\n",
    "            },\n",
    "            {\n",
    "                \"role\": \"user\",\n",
    "                \"content\": instructions,\n",
    "            },\n",
    "        ],\n",
    "        model=\"llama3-8b-8192\",\n",
    "    )\n",
    "    #print(response.headers.get('X-My-Header'))\n",
    "    for line in response.iter_lines():\n",
    "        country_list=country_list+line\n",
    "        print(line)\n",
    "except groq.APIConnectionError as e:\n",
    "    print(\"The server could not be reached\")\n",
    "    print(e.__cause__)  # an underlying Exception, likely raised within httpx.\n",
    "except groq.RateLimitError as e:\n",
    "    print(\"A 429 status code was received; we should back off a bit.\")\n",
    "except groq.APIStatusError as e:\n",
    "    print(\"Another non-200-range status code was received\")\n",
    "    print(e.status_code)\n",
    "    print(e.response)"
   ]
  },
  {
   "cell_type": "code",
   "execution_count": null,
   "metadata": {},
   "outputs": [],
   "source": [
    "import pandas as pd\n",
    "import json"
   ]
  },
  {
   "cell_type": "code",
   "execution_count": null,
   "metadata": {},
   "outputs": [],
   "source": [
    "# Parse the JSON\n",
    "data = json.loads(country_list)\n",
    "\n",
    "# Extract the content containing the countries\n",
    "content = data['choices'][0]['message']['content']\n",
    "\n",
    "\n",
    "# Split the content into lines and remove the header\n",
    "countries = content.split('\\n')[2:]  # Skip the first two lines (header and empty line)\n",
    "\n",
    "# Clean the data by removing the incorrect rows\n",
    "# Remove empty strings and the note at the end\n",
    "countries = [country for country in countries if country and not country.startswith('Please')]\n",
    "\n",
    "# Create a DataFrame\n",
    "df = pd.DataFrame(countries, columns=['Country'])\n",
    "\n",
    "# Add an index column starting from 1\n",
    "df.index = df.index + 1\n",
    "\n",
    "# Display the DataFrame\n",
    "display(df.head(15))\n",
    "\n",
    "# Print some basic statistics\n",
    "print(f\"\\nTotal number of countries: {len(df)}\")"
   ]
  },
  {
   "cell_type": "code",
   "execution_count": null,
   "metadata": {},
   "outputs": [],
   "source": [
    "#| label: celllabel1\n",
    "\n",
    "df.tail()"
   ]
  },
  {
   "cell_type": "markdown",
   "metadata": {},
   "source": [
    "### Generate a CC by 4.0 License File for Github"
   ]
  },
  {
   "cell_type": "code",
   "execution_count": null,
   "metadata": {},
   "outputs": [],
   "source": [
    "chat_completion = client.chat.completions.create(\n",
    "    messages=[\n",
    "        {\n",
    "            \"role\": \"user\",\n",
    "            \"content\": \"Generate a CC by 4.0 License File for Github\",\n",
    "        }\n",
    "    ],\n",
    "    model=\"llama3-8b-8192\",\n",
    ")\n",
    "print(chat_completion.choices[0].message.content)"
   ]
  }
 ],
 "metadata": {
  "kernelspec": {
   "display_name": "Python 3",
   "language": "python",
   "name": "python3"
  },
  "language_info": {
   "codemirror_mode": {
    "name": "ipython",
    "version": 3
   },
   "file_extension": ".py",
   "mimetype": "text/x-python",
   "name": "python",
   "nbconvert_exporter": "python",
   "pygments_lexer": "ipython3",
   "version": "3.12.1"
  }
 },
 "nbformat": 4,
 "nbformat_minor": 2
}
