{
 "cells": [
  {
   "cell_type": "code",
   "execution_count": null,
   "metadata": {},
   "outputs": [],
   "source": [
    "! uv add groq\n",
    "#!pip install Groq"
   ]
  },
  {
   "cell_type": "code",
   "execution_count": null,
   "metadata": {},
   "outputs": [],
   "source": [
    "import groq\n",
    "from groq import Groq\n",
    "import os\n",
    "from getpass import getpass"
   ]
  },
  {
   "cell_type": "code",
   "execution_count": null,
   "metadata": {},
   "outputs": [],
   "source": [
    "print(groq.__version__)"
   ]
  },
  {
   "cell_type": "code",
   "execution_count": null,
   "metadata": {},
   "outputs": [],
   "source": [
    "from pprint import pprint as pp\n",
    "# Set a custom width for pretty-printing\n",
    "def pprint(data, width=80):\n",
    "    \"\"\"Pretty print data with a specified width.\"\"\"\n",
    "    pp(data, width=width)# List of model identifiers to query\n"
   ]
  },
  {
   "cell_type": "markdown",
   "metadata": {},
   "source": [
    "### Setting Up API Keys"
   ]
  },
  {
   "cell_type": "code",
   "execution_count": null,
   "metadata": {},
   "outputs": [],
   "source": [
    "# Enter API key\n",
    "api_key = getpass('Enter your Groq API key: ')"
   ]
  },
  {
   "cell_type": "code",
   "execution_count": null,
   "metadata": {},
   "outputs": [],
   "source": [
    "# Configure the default for all requests:\n",
    "client = Groq(\n",
    "    max_retries=2,# default is 2\n",
    "    api_key=api_key,\n",
    "     # 20 seconds (default is 1 minute)\n",
    "    timeout=50.0,\n",
    ")"
   ]
  },
  {
   "cell_type": "code",
   "execution_count": null,
   "metadata": {},
   "outputs": [],
   "source": [
    "chat_completion = client.chat.completions.create(\n",
    "    messages=[\n",
    "        {\n",
    "            \"role\": \"user\",\n",
    "            \"content\": \"generate a sample codemeta.json file\",\n",
    "        }\n",
    "    ],\n",
    "    model=\"llama3-8b-8192\",\n",
    ")\n",
    "print(chat_completion.choices[0].message.content)"
   ]
  },
  {
   "cell_type": "code",
   "execution_count": null,
   "metadata": {},
   "outputs": [],
   "source": [
    "#Check the above generate Schema is valid on this website and edit it there only before pasting it in codemeta.json.\n",
    "#https://jsonlint.com/"
   ]
  },
  {
   "cell_type": "markdown",
   "metadata": {},
   "source": [
    "### Exploratory Data Analysis "
   ]
  },
  {
   "cell_type": "code",
   "execution_count": null,
   "metadata": {},
   "outputs": [],
   "source": [
    "import pandas as pd\n",
    "import numpy as np\n",
    "import matplotlib.pyplot as plt\n",
    "import seaborn as sns"
   ]
  },
  {
   "cell_type": "markdown",
   "metadata": {},
   "source": [
    "## Read the 04_medals.csv file and do some analysis on the medals data."
   ]
  },
  {
   "cell_type": "code",
   "execution_count": null,
   "metadata": {},
   "outputs": [],
   "source": [
    "# Load the medals dataset\n",
    "# Replace 'medals.csv' with the actual path to your file\n",
    "df = pd.read_csv('../01_data/04_medals.csv')\n",
    "print(f\"Shape: {df.shape}\")\n",
    "df.head(3)"
   ]
  },
  {
   "cell_type": "code",
   "execution_count": null,
   "metadata": {},
   "outputs": [],
   "source": [
    "df_clean = df.dropna(subset=['discipline', 'gender', 'medal_type']).copy()"
   ]
  },
  {
   "cell_type": "code",
   "execution_count": null,
   "metadata": {},
   "outputs": [],
   "source": [
    "\n",
    "# Create a summary table of medals per sport per gender\n",
    "medals_by_sport_gender = df_clean.groupby(['discipline', 'gender']).size().reset_index(name='Medal_Count')\n",
    "\n",
    "# Pivot the data for better visualization\n",
    "medals_pivot = medals_by_sport_gender.pivot(index='discipline', columns='gender', values='Medal_Count').fillna(0)\n",
    "\n",
    "print(\"\\nMedals per Sport per Gender:\")\n",
    "print(medals_pivot)"
   ]
  },
  {
   "cell_type": "code",
   "execution_count": null,
   "metadata": {},
   "outputs": [],
   "source": [
    "\n",
    "# Visualization : Bar chart comparing total medals by gender\n",
    "gender_totals = df_clean.groupby('gender').size()\n",
    "plt.figure(figsize=(8, 6))\n",
    "gender_totals.plot(kind='bar', color=['skyblue', 'yellow','pink','green'])\n",
    "plt.title('Total Medals by Gender')\n",
    "plt.xlabel('Gender')\n",
    "plt.ylabel('Number of Medals')\n",
    "plt.xticks(rotation=45)\n",
    "plt.tight_layout()\n",
    "plt.show()"
   ]
  },
  {
   "cell_type": "code",
   "execution_count": null,
   "metadata": {},
   "outputs": [],
   "source": [
    "# Filter for women's gold medals and get counts by sport\n",
    "df = pd.read_csv('../01_data/04_medals.csv')\n",
    "print(df.shape)\n",
    "# Filter for women's gold medals and get counts by sport\n",
    "women_gold_medals = df[(df['gender'].str.lower() == 'w') & (df['medal_type'].str.lower() == 'gold medal')]\n",
    "\n",
    "print(women_gold_medals.shape)\n",
    "\n",
    "# Group by sport and count gold medals\n",
    "gold_by_sport = women_gold_medals.groupby('discipline').size().sort_values(ascending=False)\n",
    "print(gold_by_sport.shape)\n",
    "#gold_by_sport.head()\n",
    "# Convert to string format for the API\n",
    "data_summary = gold_by_sport.head(10).to_string()\n"
   ]
  },
  {
   "cell_type": "code",
   "execution_count": null,
   "metadata": {},
   "outputs": [],
   "source": [
    "#| label: celllabel1\n",
    "gold_by_sport.head(10)"
   ]
  },
  {
   "cell_type": "code",
   "execution_count": null,
   "metadata": {},
   "outputs": [],
   "source": [
    "print(data_summary)"
   ]
  },
  {
   "cell_type": "code",
   "execution_count": null,
   "metadata": {},
   "outputs": [],
   "source": [
    "# Instructions for Groq \n",
    "instructions = '''\n",
    "Analyze the following Olympic medals data showing women's gold medal counts by sport:\n",
    "\n",
    "{data_summary}\n",
    "\n",
    "Based on this data:\n",
    "1. Which sport has the most gold medals won by women?\n",
    "2. What is the exact count of gold medals for that sport?\n",
    "3. List the top 3 sports where women won the most gold medals with their counts.\n",
    "4. Provide any interesting insights about women's performance across these sports.\n",
    "\n",
    "Please provide a clear, concise analysis focusing on the sport with the highest women's gold medal count per sport.\n",
    "\n",
    "'''"
   ]
  },
  {
   "cell_type": "code",
   "execution_count": null,
   "metadata": {},
   "outputs": [],
   "source": [
    "groq_response=''\n",
    "try:\n",
    "    chat_completion = client.chat.completions.create(\n",
    "        messages=[\n",
    "            {\n",
    "                \"role\": \"user\",\n",
    "                \"content\": instructions,\n",
    "            },\n",
    "        ],\n",
    "        model=\"llama3-8b-8192\",\n",
    "        temperature=0.1,  # Low temperature for factual analysis\n",
    "        max_tokens=500\n",
    "    )\n",
    "    print(\"=== GROQ API RESPONSE ===\")\n",
    "    groq_response = chat_completion.choices[0].message.content\n",
    "    print(groq_response)\n",
    "except groq.APIConnectionError as e:\n",
    "    print(\"The server could not be reached\")\n",
    "    print(e.__cause__)  # an underlying Exception, likely raised within httpx.\n",
    "except groq.RateLimitError as e:\n",
    "    print(\"A 429 status code was received; we should back off a bit.\")\n",
    "except groq.APIStatusError as e:\n",
    "    print(\"Another non-200-range status code was received\")\n",
    "    print(e.status_code)\n",
    "    print(e.response)"
   ]
  },
  {
   "cell_type": "code",
   "execution_count": null,
   "metadata": {},
   "outputs": [],
   "source": [
    "#| label: celllabel2\n",
    "print(groq_response)"
   ]
  },
  {
   "cell_type": "markdown",
   "metadata": {},
   "source": [
    "### Generate text for citation.cff file for Github"
   ]
  },
  {
   "cell_type": "code",
   "execution_count": null,
   "metadata": {},
   "outputs": [],
   "source": [
    "chat_completion = client.chat.completions.create(\n",
    "    messages=[\n",
    "        {\n",
    "            \"role\": \"user\",\n",
    "            \"content\": \"Generate a citation.cff file for this repository\",\n",
    "        }\n",
    "    ],\n",
    "    model=\"llama3-8b-8192\",\n",
    ")\n",
    "print(chat_completion.choices[0].message.content)"
   ]
  },
  {
   "cell_type": "code",
   "execution_count": null,
   "metadata": {},
   "outputs": [],
   "source": [
    "#Alternatively generate using this online tool : https://citation-file-format.github.io/cff-initializer-javascript/#/"
   ]
  }
 ],
 "metadata": {
  "kernelspec": {
   "display_name": ".venv",
   "language": "python",
   "name": "python3"
  },
  "language_info": {
   "codemirror_mode": {
    "name": "ipython",
    "version": 3
   },
   "file_extension": ".py",
   "mimetype": "text/x-python",
   "name": "python",
   "nbconvert_exporter": "python",
   "pygments_lexer": "ipython3",
   "version": "3.12.1"
  }
 },
 "nbformat": 4,
 "nbformat_minor": 2
}
