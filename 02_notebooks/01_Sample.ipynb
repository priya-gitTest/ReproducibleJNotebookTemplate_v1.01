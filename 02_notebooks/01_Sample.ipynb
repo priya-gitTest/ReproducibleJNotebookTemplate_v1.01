{
 "cells": [
  {
   "cell_type": "code",
   "execution_count": 17,
   "metadata": {},
   "outputs": [],
   "source": [
    "import groq\n",
    "from groq import Groq\n",
    "import os\n",
    "from getpass import getpass"
   ]
  },
  {
   "cell_type": "code",
   "execution_count": 18,
   "metadata": {},
   "outputs": [
    {
     "name": "stdout",
     "output_type": "stream",
     "text": [
      "0.13.0\n"
     ]
    }
   ],
   "source": [
    "print(groq.__version__)"
   ]
  },
  {
   "cell_type": "code",
   "execution_count": 19,
   "metadata": {},
   "outputs": [],
   "source": [
    "from pprint import pprint as pp\n",
    "# Set a custom width for pretty-printing\n",
    "def pprint(data, width=80):\n",
    "    \"\"\"Pretty print data with a specified width.\"\"\"\n",
    "    pp(data, width=width)# List of model identifiers to query\n"
   ]
  },
  {
   "cell_type": "markdown",
   "metadata": {},
   "source": [
    "### Setting Up API Keys"
   ]
  },
  {
   "cell_type": "code",
   "execution_count": 20,
   "metadata": {},
   "outputs": [],
   "source": [
    "# Enter API key\n",
    "api_key = getpass('Enter your Groq API key: ')"
   ]
  },
  {
   "cell_type": "code",
   "execution_count": 24,
   "metadata": {},
   "outputs": [],
   "source": [
    "# Configure the default for all requests:\n",
    "client = Groq(\n",
    "    max_retries=2,# default is 2\n",
    "    api_key=api_key,\n",
    "     # 20 seconds (default is 1 minute)\n",
    "    timeout=50.0,\n",
    ")"
   ]
  },
  {
   "cell_type": "code",
   "execution_count": 32,
   "metadata": {},
   "outputs": [
    {
     "name": "stdout",
     "output_type": "stream",
     "text": [
      "Here is a sample `codemeta.json` file:\n",
      "```\n",
      "{\n",
      "  \"@context\": \"https://codemeta.github.io/codex-v1.0\",\n",
      "  \"type\": [\n",
      "    \"Dataset\",\n",
      "    \"SourceCode\"\n",
      "  ],\n",
      "  \"name\": \"My Open-Source Project\",\n",
      "  \"description\": \"This is a sample open-source project\",\n",
      "  \"keywords\": [\"machine learning\", \"deep learning\", \"natural language processing\"],\n",
      "  \"license\": \"MIT\",\n",
      "  \"creators\": [\n",
      "    {\n",
      "      \"@type\": \"Person\",\n",
      "      \"name\": \"John Doe\",\n",
      "      \"email\": \"johndoe@example.com\"\n",
      "    },\n",
      "    {\n",
      "      \"@type\": \"Person\",\n",
      "      \"name\": \"Jane Smith\",\n",
      "      \"email\": \"janesmith@example.com\"\n",
      "    }\n",
      "  ],\n",
      "  \"contributors\": [\n",
      "    {\n",
      "      \"@type\": \"Person\",\n",
      "      \"name\": \"Bob Johnson\",\n",
      "      \"email\": \"bobjohnson@example.com\"\n",
      "    }\n",
      "  ],\n",
      "  \"datePublished\": \"2022-01-01T00:00:00Z\",\n",
      "  \"dateModified\": \"2022-02-01T00:00:00Z\",\n",
      "  \"identification\": {\n",
      "    \"uri\": \"https://github.com/myopensourceproject/myopensourceproject\",\n",
      "    \"doi\": \"10.1234/myopensourceproject\"\n",
      "  },\n",
      "  \"version\": \"1.0.0\",\n",
      "  \"language\": \"en\",\n",
      "  \"encodingFormat\": \"JSON\",\n",
      "  \"software\": [\n",
      "    {\n",
      "      \"@id\": \"https://pypi.org/project/tensorflow\",\n",
      "      \"name\": \"TensorFlow\",\n",
      "      \"version\": \"2.4.1\"\n",
      "    }\n",
      "  ],\n",
      "  \"includes\": [\n",
      "    {\n",
      "      \"@id\": \"https://github.com/myopensourceproject/myopensourceproject/blob/master/LICENSE\",\n",
      "      \"type\": \"Text\",\n",
      "      \"format\": \"markdown\"\n",
      "    }\n",
      "  ]\n",
      "}\n",
      "```\n",
      "This sample `codemeta.json` file provides metadata for an open-source project, including:\n",
      "\n",
      "1. Basic information: name, description, keywords, and license.\n",
      "2. Creators and contributors: a list of people who created and contributed to the project.\n",
      "3. Identification: a URL and DOI for the project.\n",
      "4. Version and modification dates.\n",
      "5. Software dependencies: a list of software components used in the project, including their IDs and versions.\n",
      "6. Includes: a list of included resources, such as a license file.\n",
      "\n",
      "Note that this is just a sample, and you may need to add or modify metadata fields depending on your specific use case.\n"
     ]
    }
   ],
   "source": [
    "chat_completion = client.chat.completions.create(\n",
    "    messages=[\n",
    "        {\n",
    "            \"role\": \"user\",\n",
    "            \"content\": \"generate a sample codemeta.json file\",\n",
    "        }\n",
    "    ],\n",
    "    model=\"llama3-8b-8192\",\n",
    ")\n",
    "print(chat_completion.choices[0].message.content)"
   ]
  },
  {
   "cell_type": "code",
   "execution_count": 25,
   "metadata": {},
   "outputs": [],
   "source": [
    "# Instructions for Groq \n",
    "instructions = '''\n",
    "Please provide a comprehensive list of all internationally recognized sovereign states. \n",
    "    Format the response as a clean, alphabetized list of country names. \n",
    "    Include:\n",
    "    - All 193 UN member states\n",
    "    - Internationally recognized sovereign states\n",
    "    - Alphabetized order\n",
    "    \n",
    "    Do not include:\n",
    "    - Dependent territories\n",
    "    - Disputed regions\n",
    "    - Non-sovereign states\n",
    "'''\n"
   ]
  },
  {
   "cell_type": "code",
   "execution_count": 30,
   "metadata": {},
   "outputs": [
    {
     "name": "stdout",
     "output_type": "stream",
     "text": [
      "{\"id\":\"chatcmpl-cba7d53e-865c-4227-9d04-b7abff6f2cc2\",\"object\":\"chat.completion\",\"created\":1733091782,\"model\":\"llama3-8b-8192\",\"choices\":[{\"index\":0,\"message\":{\"role\":\"assistant\",\"content\":\"Here is the comprehensive list of internationally recognized sovereign states in alphabetical order:\\n\\n1. Afghanistan\\n2. Albania\\n3. Algeria\\n4. Andorra\\n5. Angola\\n6. Antigua and Barbuda\\n7. Argentina\\n8. Armenia\\n9. Australia\\n10. Austria\\n11. Azerbaijan\\n12. Bahamas\\n13. Bahrain\\n14. Bangladesh\\n15. Barbados\\n16. Belarus\\n17. Belgium\\n18. Belize\\n19. Benin\\n20. Bhutan\\n21. Bolivia (Plurinational State of)\\n22. Bosnia and Herzegovina\\n23. Botswana\\n24. Brazil\\n25. Brunei Darussalam\\n26. Bulgaria\\n27. Burkina Faso\\n28. Burundi\\n29. Cambodia\\n30. Cameroon\\n31. Canada\\n32. Central African Republic\\n33. Chad\\n34. Chile\\n35. China (People's Republic of)\\n36. Colombia\\n37. Comoros\\n38. Congo (Bolivarian Republic of)\\n39. Costa Rica\\n40. Côte d'Ivoire\\n41. Croatia\\n42. Cuba\\n43. Cyprus\\n44. Czech Republic\\n45. Denmark\\n46. Djibouti\\n47. Dominica\\n48. Dominican Republic\\n49. Ecuador\\n50. Egypt\\n51. El Salvador\\n52. Equatorial Guinea\\n53. Eritrea\\n54. Estonia\\n55. Eswatini (formerly Swaziland)\\n56. Ethiopia\\n57. Fiji\\n58. Finland\\n59. France\\n60. Gabon\\n61. Gambia\\n62. Georgia\\n63. Germany\\n64. Ghana\\n65. Greece\\n66. Grenada\\n67. Guatemala\\n68. Guinea\\n69. Guinea-Bissau\\n70. Guyana\\n71. Haiti\\n72. Honduras\\n73. Hungary\\n74. Iceland\\n75. India\\n76. Indonesia\\n77. Iran (Islamic Republic of)\\n78. Iraq\\n79. Ireland\\n80. Israel\\n81. Italy\\n82. Jamaica\\n83. Japan\\n84. Jordan\\n85. Kazakhstan\\n86. Kenya\\n87. Kiribati\\n88. North Korea (Democratic People's Republic of)\\n89. South Korea (Republic of)\\n90. Kosovo\\n91. Kuwait\\n92. Kyrgyzstan\\n93. Laos\\n94. Latvia\\n95. Lebanon\\n96. Lesotho\\n97. Liberia\\n98. Libya\\n99. Lithuania\\n100. Luxembourg\\n101. Macedonia (Republic of North Macedonia)\\n102. Madagascar\\n103. Malawi\\n104. Malaysia\\n105. Maldives\\n106. Mali\\n107. Malta\\n108. Marshall Islands\\n109. Mauritania\\n110. Mauritius\\n111. Mexico\\n112. Micronesia (Federated States of)\\n113. Moldova\\n114. Monaco\\n115. Mongolia\\n116. Montenegro\\n117. Morocco\\n118. Mozambique\\n119. Myanmar (Burma)\\n120. Namibia\\n121. Nauru\\n122. Nepal\\n123. Netherlands\\n124. New Zealand\\n125. Nicaragua\\n126. Niger\\n127. Nigeria\\n128. Norway\\n129. Oman\\n130. Pakistan\\n131. Palau\\n132. Panama\\n133. Papua New Guinea\\n134. Paraguay\\n135. Peru\\n136. Philippines\\n137. Poland\\n138. Portugal\\n139. Qatar\\n140. Romania\\n141. Russia (Federation of)\\n142. Rwanda\\n143. Saint Kitts and Nevis\\n144. Saint Lucia\\n145. Saint Vincent and the Grenadines\\n146. Samoa\\n147. San Marino\\n148. Sao Tome and Principe\\n149. Saudi Arabia\\n150. Senegal\\n151. Serbia\\n152. Seychelles\\n153. Sierra Leone\\n154. Singapore\\n155. Sint Maarten (Dutch part)\\n156. Slovakia\\n157. Slovenia\\n158. Solomon Islands\\n159. Somalia\\n160. South Africa\\n161. South Sudan\\n162. Spain\\n163. Sri Lanka\\n164. Sudan\\n165. Suriname\\n166. Swaziland (formerly Eswatini)\\n167. Sweden\\n168. Switzerland\\n169. Syria\\n170. Tajikistan\\n171. Thailand\\n172. Timor-Leste (East Timor)\\n173. Togo\\n174. Tonga\\n175. Trinidad and Tobago\\n176. Tunisia\\n177. Turkey\\n178. Turkmenistan\\n179. Tuvalu\\n180. Uganda\\n181. Ukraine\\n182. United Arab Emirates\\n183. United Kingdom\\n184. United States of America\\n185. Uruguay\\n186. Uzbekistan\\n187. Vanuatu\\n188. Venezuela (Bolivarian Republic of)\\n189. Vietnam\\n190. Yemen\\n191. Zambia\\n192. Zimbabwe\\n\\nNote: This list includes all 193 UN member states and internationally recognized sovereign states, but does not include dependent territories, disputed regions, or non-sovereign states.\"},\"logprobs\":null,\"finish_reason\":\"stop\"}],\"usage\":{\"queue_time\":0.009801972,\"prompt_tokens\":101,\"prompt_time\":0.005511815,\"completion_tokens\":1026,\"completion_time\":0.855,\"total_tokens\":1127,\"total_time\":0.860511815},\"system_fingerprint\":\"fp_179b0f92c9\",\"x_groq\":{\"id\":\"req_01je253vn9ft48xae05tgvdfvw\"}}\n"
     ]
    }
   ],
   "source": [
    "try:\n",
    "    response = client.chat.completions.with_raw_response.create(\n",
    "        messages=[\n",
    "            {\n",
    "                \"role\": \"system\",\n",
    "                \"content\": \"You are a helpful assistant.\",\n",
    "            },\n",
    "            {\n",
    "                \"role\": \"user\",\n",
    "                \"content\": instructions,\n",
    "            },\n",
    "        ],\n",
    "        model=\"llama3-8b-8192\",\n",
    "    )\n",
    "    #print(response.headers.get('X-My-Header'))\n",
    "    for line in response.iter_lines():\n",
    "        print(line)\n",
    "except groq.APIConnectionError as e:\n",
    "    print(\"The server could not be reached\")\n",
    "    print(e.__cause__)  # an underlying Exception, likely raised within httpx.\n",
    "except groq.RateLimitError as e:\n",
    "    print(\"A 429 status code was received; we should back off a bit.\")\n",
    "except groq.APIStatusError as e:\n",
    "    print(\"Another non-200-range status code was received\")\n",
    "    print(e.status_code)\n",
    "    print(e.response)"
   ]
  },
  {
   "cell_type": "code",
   "execution_count": null,
   "metadata": {},
   "outputs": [],
   "source": []
  }
 ],
 "metadata": {
  "kernelspec": {
   "display_name": "my_env",
   "language": "python",
   "name": "python3"
  },
  "language_info": {
   "codemirror_mode": {
    "name": "ipython",
    "version": 3
   },
   "file_extension": ".py",
   "mimetype": "text/x-python",
   "name": "python",
   "nbconvert_exporter": "python",
   "pygments_lexer": "ipython3",
   "version": "3.12.7"
  }
 },
 "nbformat": 4,
 "nbformat_minor": 2
}
